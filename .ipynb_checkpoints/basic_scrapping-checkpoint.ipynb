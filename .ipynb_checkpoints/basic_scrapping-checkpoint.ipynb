{
 "cells": [
  {
   "cell_type": "code",
   "execution_count": 4,
   "metadata": {},
   "outputs": [],
   "source": [
    "import requests\n",
    "from bs4 import BeautifulSoup\n",
    "import re"
   ]
  },
  {
   "cell_type": "code",
   "execution_count": 5,
   "metadata": {},
   "outputs": [],
   "source": [
    "url = \"https://www.buzzfeed.com\"\n",
    "page = requests.get(url)"
   ]
  },
  {
   "cell_type": "code",
   "execution_count": 6,
   "metadata": {},
   "outputs": [
    {
     "data": {
      "text/plain": [
       "<Response [200]>"
      ]
     },
     "execution_count": 6,
     "metadata": {},
     "output_type": "execute_result"
    }
   ],
   "source": [
    "page"
   ]
  },
  {
   "cell_type": "code",
   "execution_count": 7,
   "metadata": {},
   "outputs": [],
   "source": [
    "soup = BeautifulSoup(page.content, 'html.parser')\n",
    "headlines = soup.find_all(class_ = \"link-gray xs-mb05 xs-pt05 sm-pt0 xs-text-4 sm-text-2 bold\")\n",
    "headlines = [str(headline) for headline in headlines]"
   ]
  },
  {
   "cell_type": "code",
   "execution_count": 8,
   "metadata": {},
   "outputs": [
    {
     "data": {
      "text/plain": [
       "['<h2 class=\"link-gray xs-mb05 xs-pt05 sm-pt0 xs-text-4 sm-text-2 bold\">15 Of The Best-Rated Sunglasses On Amazon That Are Actually Cheap AF</h2>',\n",
       " '<h2 class=\"link-gray xs-mb05 xs-pt05 sm-pt0 xs-text-4 sm-text-2 bold\">\"Period\", A Film About Menstruation, Just Won An Oscar And Everyone Is (RIGHTFULLY) Ecstatic</h2>',\n",
       " '<h2 class=\"link-gray xs-mb05 xs-pt05 sm-pt0 xs-text-4 sm-text-2 bold\">Lilly Singh Just Came Out As Bisexual And Everyone Has A Lot Of Feelings</h2>',\n",
       " '<h2 class=\"link-gray xs-mb05 xs-pt05 sm-pt0 xs-text-4 sm-text-2 bold\">13 Highlights From Kareena Kapoor Khan And Priyanka Chopra Jonas\\' \"Koffee With Karan\" Episode</h2>',\n",
       " '<h2 class=\"link-gray xs-mb05 xs-pt05 sm-pt0 xs-text-4 sm-text-2 bold\">14 \"Koffee With Karan\" Moments That Prove Abhishek Bachchan Has Left All His Damns At Home</h2>',\n",
       " '<h2 class=\"link-gray xs-mb05 xs-pt05 sm-pt0 xs-text-4 sm-text-2 bold\">13 Great Deals On Workout Equipment That\\'ll Compel You To Get Off Your Butt</h2>',\n",
       " '<h2 class=\"link-gray xs-mb05 xs-pt05 sm-pt0 xs-text-4 sm-text-2 bold\">Indians, Tell Us More About How You Met The Love Of Your Life Online</h2>',\n",
       " '<h2 class=\"link-gray xs-mb05 xs-pt05 sm-pt0 xs-text-4 sm-text-2 bold\">11 Things You Need If You Have A Cat Or A Cat Person In Your Life</h2>',\n",
       " '<h2 class=\"link-gray xs-mb05 xs-pt05 sm-pt0 xs-text-4 sm-text-2 bold\">This Is What India Was Like In 2009</h2>',\n",
       " '<h2 class=\"link-gray xs-mb05 xs-pt05 sm-pt0 xs-text-4 sm-text-2 bold\">Hardik Pandya\\'s Episode Of \"Koffee With Karan\" Is Being Called Out For Its Problematic Nature</h2>',\n",
       " '<h2 class=\"link-gray xs-mb05 xs-pt05 sm-pt0 xs-text-4 sm-text-2 bold\">14 Notable Moments From Hardik Pandya And K.L. Rahul\\'s Episode Of \"Koffee With Karan\"</h2>',\n",
       " '<h2 class=\"link-gray xs-mb05 xs-pt05 sm-pt0 xs-text-4 sm-text-2 bold\">As Usual, Women Were Absolutely Killing It In 2018</h2>',\n",
       " '<h2 class=\"link-gray xs-mb05 xs-pt05 sm-pt0 xs-text-4 sm-text-2 bold\">12 Hilarious Moments From The Kapoor Siblings\\' Episode On \"Koffee With Karan\"</h2>',\n",
       " '<h2 class=\"link-gray xs-mb05 xs-pt05 sm-pt0 xs-text-4 sm-text-2 bold\">In Meme-Orium: 14 Indian Memes That Were Here To Stay In 2018</h2>',\n",
       " '<h2 class=\"link-gray xs-mb05 xs-pt05 sm-pt0 xs-text-4 sm-text-2 bold\">Did This Happen In 2018?</h2>',\n",
       " '<h2 class=\"link-gray xs-mb05 xs-pt05 sm-pt0 xs-text-4 sm-text-2 bold\">The Vigil Idiot Reviews \"Zero\", A Movie Whose Title Sums Up Its Logic Better Than I Ever Could</h2>',\n",
       " '<h2 class=\"link-gray xs-mb05 xs-pt05 sm-pt0 xs-text-4 sm-text-2 bold\">10 Web Series From 2018 You Should Watch And 10 Web Series From 2019 You Should Watch Out For</h2>',\n",
       " '<h2 class=\"link-gray xs-mb05 xs-pt05 sm-pt0 xs-text-4 sm-text-2 bold\">100 Of India\\'s Funniest Tweets Of 2018</h2>',\n",
       " '<h2 class=\"link-gray xs-mb05 xs-pt05 sm-pt0 xs-text-4 sm-text-2 bold\">Here\\'s What Celebs Wore To Priyanka Chopra And Nick Jonas\\'s Reception</h2>',\n",
       " '<h2 class=\"link-gray xs-mb05 xs-pt05 sm-pt0 xs-text-4 sm-text-2 bold\">2018 Belonged To Vicky Kaushal And I Will Not Have Anyone Tell Me Otherwise</h2>',\n",
       " '<h2 class=\"link-gray xs-mb05 xs-pt05 sm-pt0 xs-text-4 sm-text-2 bold\">20 Crushes Who Made Your Heart Soar In 2018</h2>',\n",
       " '<h2 class=\"link-gray xs-mb05 xs-pt05 sm-pt0 xs-text-4 sm-text-2 bold\">Bollywood, Beyoncé, Bad Taste – Here\\'s Everything That Happened At The Ambanis\\' Billionaire Bash</h2>',\n",
       " '<h2 class=\"link-gray xs-mb05 xs-pt05 sm-pt0 xs-text-4 sm-text-2 bold\">This Couple Had The Most Magical Harry Potter-Themed Engagement That Was \"Riddled\" With References</h2>',\n",
       " '<h2 class=\"link-gray xs-mb05 xs-pt05 sm-pt0 xs-text-4 sm-text-2 bold\">12 Hilarious Moments From Diljit Dosanjh And Badshah\\'s \"Koffee With Karan\" Episode</h2>',\n",
       " '<h2 class=\"link-gray xs-mb05 xs-pt05 sm-pt0 xs-text-4 sm-text-2 bold\">13 Products Under ₹500 That Will Never Not Be Useful</h2>',\n",
       " '<h2 class=\"link-gray xs-mb05 xs-pt05 sm-pt0 xs-text-4 sm-text-2 bold\">Priyanka Chopra And Nick Jonas Sold Their Pictures To A Magazine So I\\'ll Narrate What The Wedding Was Like</h2>']"
      ]
     },
     "execution_count": 8,
     "metadata": {},
     "output_type": "execute_result"
    }
   ],
   "source": [
    "headlines"
   ]
  },
  {
   "cell_type": "code",
   "execution_count": 9,
   "metadata": {},
   "outputs": [],
   "source": [
    "headlines = [re.sub(\"<.*?>\", \"\", headline) for headline in headlines]"
   ]
  },
  {
   "cell_type": "code",
   "execution_count": 10,
   "metadata": {},
   "outputs": [
    {
     "data": {
      "text/plain": [
       "['15 Of The Best-Rated Sunglasses On Amazon That Are Actually Cheap AF',\n",
       " '\"Period\", A Film About Menstruation, Just Won An Oscar And Everyone Is (RIGHTFULLY) Ecstatic',\n",
       " 'Lilly Singh Just Came Out As Bisexual And Everyone Has A Lot Of Feelings',\n",
       " '13 Highlights From Kareena Kapoor Khan And Priyanka Chopra Jonas\\' \"Koffee With Karan\" Episode',\n",
       " '14 \"Koffee With Karan\" Moments That Prove Abhishek Bachchan Has Left All His Damns At Home',\n",
       " \"13 Great Deals On Workout Equipment That'll Compel You To Get Off Your Butt\",\n",
       " 'Indians, Tell Us More About How You Met The Love Of Your Life Online',\n",
       " '11 Things You Need If You Have A Cat Or A Cat Person In Your Life',\n",
       " 'This Is What India Was Like In 2009',\n",
       " 'Hardik Pandya\\'s Episode Of \"Koffee With Karan\" Is Being Called Out For Its Problematic Nature',\n",
       " '14 Notable Moments From Hardik Pandya And K.L. Rahul\\'s Episode Of \"Koffee With Karan\"',\n",
       " 'As Usual, Women Were Absolutely Killing It In 2018',\n",
       " '12 Hilarious Moments From The Kapoor Siblings\\' Episode On \"Koffee With Karan\"',\n",
       " 'In Meme-Orium: 14 Indian Memes That Were Here To Stay In 2018',\n",
       " 'Did This Happen In 2018?',\n",
       " 'The Vigil Idiot Reviews \"Zero\", A Movie Whose Title Sums Up Its Logic Better Than I Ever Could',\n",
       " '10 Web Series From 2018 You Should Watch And 10 Web Series From 2019 You Should Watch Out For',\n",
       " \"100 Of India's Funniest Tweets Of 2018\",\n",
       " \"Here's What Celebs Wore To Priyanka Chopra And Nick Jonas's Reception\",\n",
       " '2018 Belonged To Vicky Kaushal And I Will Not Have Anyone Tell Me Otherwise',\n",
       " '20 Crushes Who Made Your Heart Soar In 2018',\n",
       " \"Bollywood, Beyoncé, Bad Taste – Here's Everything That Happened At The Ambanis' Billionaire Bash\",\n",
       " 'This Couple Had The Most Magical Harry Potter-Themed Engagement That Was \"Riddled\" With References',\n",
       " '12 Hilarious Moments From Diljit Dosanjh And Badshah\\'s \"Koffee With Karan\" Episode',\n",
       " '13 Products Under ₹500 That Will Never Not Be Useful',\n",
       " \"Priyanka Chopra And Nick Jonas Sold Their Pictures To A Magazine So I'll Narrate What The Wedding Was Like\"]"
      ]
     },
     "execution_count": 10,
     "metadata": {},
     "output_type": "execute_result"
    }
   ],
   "source": [
    "headlines"
   ]
  },
  {
   "cell_type": "code",
   "execution_count": null,
   "metadata": {},
   "outputs": [],
   "source": []
  }
 ],
 "metadata": {
  "kernelspec": {
   "display_name": "Python 3",
   "language": "python",
   "name": "python3"
  },
  "language_info": {
   "codemirror_mode": {
    "name": "ipython",
    "version": 3
   },
   "file_extension": ".py",
   "mimetype": "text/x-python",
   "name": "python",
   "nbconvert_exporter": "python",
   "pygments_lexer": "ipython3",
   "version": "3.7.2"
  }
 },
 "nbformat": 4,
 "nbformat_minor": 2
}
